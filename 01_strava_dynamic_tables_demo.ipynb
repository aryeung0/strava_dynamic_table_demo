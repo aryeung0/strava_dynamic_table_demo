{
 "cells": [
  {
   "cell_type": "markdown",
   "id": "main_intro",
   "metadata": {
    "name": "main_intro"
   },
   "source": [
    "# \ud83c\udfd4\ufe0f Strava Dynamic Tables + AI - Complete Demo\n",
    "\n",
    "This notebook provides a complete end-to-end demo of Snowflake Dynamic Tables with Cortex AI integration.\n",
    "\n",
    "## What This Does:\n",
    "1. Creates and populates the ACTIVITIES source table with realistic Strava-like data\n",
    "2. Builds two Dynamic Tables with AI-powered insights\n",
    "3. Monitors refresh behavior and analyzes performance metrics\n",
    "4. Demonstrates real-time data processing with incremental refresh\n",
    "\n",
    "## Prerequisites:\n",
    "**Run `00_setup_environment.sql` first** to create database, schemas, role, and warehouse.\n",
    "\n",
    "## Key Features:\n",
    "- Real-time activity data streaming simulation\n",
    "- AI-generated performance insights using Cortex COMPLETE\n",
    "- Automated ETL with dependency management\n",
    "- Performance monitoring and optimization tools\n",
    "\n",
    "---\n"
   ]
  },
  {
   "cell_type": "markdown",
   "id": "part1_intro",
   "metadata": {
    "name": "part1_intro"
   },
   "source": [
    "# Part 1: Data Streaming Setup\n",
    "\n",
    "Create the source table and simulate real-time activity data streaming.\n"
   ]
  },
  {
   "cell_type": "markdown",
   "id": "setup_context",
   "metadata": {
    "name": "setup_context"
   },
   "source": [
    "## Setup: Import Libraries and Set Context\n"
   ]
  },
  {
   "cell_type": "code",
   "execution_count": null,
   "id": "import_libs",
   "metadata": {
    "language": "python",
    "name": "import_libs",
    "vscode": {
     "languageId": "python"
    }
   },
   "outputs": [],
   "source": [
    "import time\n",
    "import random\n",
    "from datetime import datetime, timedelta\n",
    "from snowflake.snowpark.context import get_active_session\n",
    "from snowflake.snowpark.functions import col\n",
    "\n",
    "session = get_active_session()\n",
    "\n",
    "print(\"\u2705 Libraries imported successfully!\")\n",
    "print(f\"\ud83d\udcca Connected to Snowflake: {session.get_current_database()}.{session.get_current_schema()}\")\n"
   ]
  },
  {
   "cell_type": "code",
   "execution_count": null,
   "id": "set_context",
   "metadata": {
    "language": "sql",
    "name": "set_context"
   },
   "outputs": [],
   "source": [
    "USE ROLE STRAVA_DEMO_ADMIN;\n",
    "USE WAREHOUSE STRAVA_DEMO_WH;\n",
    "USE DATABASE STRAVA_DEMO_SAMPLE;\n",
    "USE SCHEMA RAW_DATA;\n"
   ]
  },
  {
   "cell_type": "markdown",
   "id": "create_table",
   "metadata": {
    "name": "create_table"
   },
   "source": [
    "## Create Activities Table\n"
   ]
  },
  {
   "cell_type": "code",
   "execution_count": null,
   "id": "create_activities_table",
   "metadata": {
    "language": "sql",
    "name": "create_activities_table"
   },
   "outputs": [],
   "source": [
    "CREATE TABLE IF NOT EXISTS ACTIVITIES (\n",
    "    activity_id INTEGER,\n",
    "    athlete_id INTEGER,\n",
    "    activity_type VARCHAR(50),\n",
    "    start_date_local TIMESTAMP_NTZ,\n",
    "    distance_meters FLOAT,\n",
    "    moving_time_sec INTEGER,\n",
    "    elapsed_time_sec INTEGER,\n",
    "    total_elevation_gain_meters FLOAT,\n",
    "    map_polyline VARCHAR(500),\n",
    "    average_heartrate INTEGER\n",
    ");\n",
    "\n",
    "SELECT 'Activities table ready!' as status;"
   ]
  },
  {
   "cell_type": "markdown",
   "id": "data_generator",
   "metadata": {
    "name": "data_generator"
   },
   "source": [
    "## Data Generator Function\n"
   ]
  },
  {
   "cell_type": "code",
   "execution_count": null,
   "id": "define_generator",
   "metadata": {
    "language": "python",
    "name": "define_generator",
    "vscode": {
     "languageId": "python"
    }
   },
   "outputs": [],
   "source": [
    "def generate_activity_batch(batch_size=10, starting_id=1000):\n",
    "    \"\"\"Generate a batch of realistic Strava activity data\"\"\"\n",
    "    \n",
    "    activity_types = ['Run', 'Ride', 'Swim', 'Walk', 'Hike']\n",
    "    activities = []\n",
    "    \n",
    "    for i in range(batch_size):\n",
    "        activity_type = random.choice(activity_types)\n",
    "        \n",
    "        if activity_type == 'Run':\n",
    "            distance = random.uniform(3000, 15000)\n",
    "            pace_min_per_km = random.uniform(4, 7)\n",
    "            moving_time = int((distance / 1000) * pace_min_per_km * 60)\n",
    "            heartrate = random.randint(140, 180)\n",
    "            elevation = random.uniform(20, 200)\n",
    "            \n",
    "        elif activity_type == 'Ride':\n",
    "            distance = random.uniform(15000, 60000)\n",
    "            speed_kmh = random.uniform(20, 30)\n",
    "            moving_time = int((distance / 1000) / speed_kmh * 3600)\n",
    "            heartrate = random.randint(120, 160)\n",
    "            elevation = random.uniform(100, 800)\n",
    "            \n",
    "        elif activity_type == 'Swim':\n",
    "            distance = random.uniform(1000, 3000)\n",
    "            pace_min_per_100m = random.uniform(1.5, 2.5)\n",
    "            moving_time = int((distance / 100) * pace_min_per_100m * 60)\n",
    "            heartrate = random.randint(130, 170)\n",
    "            elevation = 0.0\n",
    "            \n",
    "        else:\n",
    "            distance = random.uniform(2000, 10000)\n",
    "            pace_min_per_km = random.uniform(10, 15)\n",
    "            moving_time = int((distance / 1000) * pace_min_per_km * 60)\n",
    "            heartrate = random.randint(90, 130)\n",
    "            elevation = random.uniform(50, 400)\n",
    "        \n",
    "        elapsed_time = int(moving_time * random.uniform(1.0, 1.3))\n",
    "        athlete_id = random.randint(1, 100)\n",
    "        map_polyline = f\"polyline_{athlete_id}_{starting_id + i}\"\n",
    "        \n",
    "        activity = {\n",
    "            'ACTIVITY_ID': starting_id + i,\n",
    "            'ATHLETE_ID': athlete_id,\n",
    "            'ACTIVITY_TYPE': activity_type,\n",
    "            'START_DATE_LOCAL': datetime.now() - timedelta(minutes=random.randint(0, 60)),\n",
    "            'DISTANCE_METERS': round(distance, 2),\n",
    "            'MOVING_TIME_SEC': moving_time,\n",
    "            'ELAPSED_TIME_SEC': elapsed_time,\n",
    "            'TOTAL_ELEVATION_GAIN_METERS': round(elevation, 2),\n",
    "            'MAP_POLYLINE': map_polyline,\n",
    "            'AVERAGE_HEARTRATE': heartrate\n",
    "        }\n",
    "        \n",
    "        activities.append(activity)\n",
    "    \n",
    "    return activities\n",
    "\n",
    "def stream_activities(duration_minutes=5, batch_size=10, interval_seconds=60):\n",
    "    \"\"\"Stream activity data into Snowflake\"\"\"\n",
    "    \n",
    "    print(f\"\ud83d\ude80 Starting data stream...\")\n",
    "    print(f\"\ud83d\udcca Config: {batch_size} activities every {interval_seconds} seconds for {duration_minutes} minutes\\n\")\n",
    "    \n",
    "    max_id_result = session.sql(\"SELECT COALESCE(MAX(activity_id), 0) as max_id FROM RAW_DATA.ACTIVITIES\").collect()\n",
    "    current_id = max_id_result[0]['MAX_ID'] + 1\n",
    "    \n",
    "    start_time = time.time()\n",
    "    end_time = start_time + (duration_minutes * 60)\n",
    "    batch_count = 0\n",
    "    total_rows = 0\n",
    "    \n",
    "    while time.time() < end_time:\n",
    "        activities = generate_activity_batch(batch_size, starting_id=current_id)\n",
    "        df = session.create_dataframe(activities)\n",
    "        df.write.mode(\"append\").save_as_table(\"RAW_DATA.ACTIVITIES\")\n",
    "        \n",
    "        batch_count += 1\n",
    "        total_rows += batch_size\n",
    "        current_id += batch_size\n",
    "        \n",
    "        elapsed = int(time.time() - start_time)\n",
    "        remaining = int(end_time - time.time())\n",
    "        print(f\"\u2705 Batch {batch_count}: {batch_size} activities | Total: {total_rows} | Elapsed: {elapsed}s | Remaining: {remaining}s\")\n",
    "        \n",
    "        if time.time() < end_time:\n",
    "            time.sleep(interval_seconds)\n",
    "    \n",
    "    print(f\"\\n\ud83c\udf89 Stream complete! {batch_count} batches, {total_rows} total activities inserted\")\n",
    "    final_count = session.sql(\"SELECT COUNT(*) as total FROM RAW_DATA.ACTIVITIES\").collect()\n",
    "    print(f\"\ud83d\uddc2\ufe0f  Total in table: {final_count[0]['TOTAL']}\")\n",
    "\n",
    "print(\"\u2705 Functions ready!\")"
   ]
  },
  {
   "cell_type": "markdown",
   "id": "run_stream",
   "metadata": {
    "name": "run_stream"
   },
   "source": [
    "## Run Initial Data Stream\n",
    "\n",
    "Generate initial dataset for testing. Adjust parameters as needed.\n"
   ]
  },
  {
   "cell_type": "code",
   "execution_count": null,
   "id": "stream_data",
   "metadata": {
    "language": "python",
    "name": "stream_data",
    "vscode": {
     "languageId": "python"
    }
   },
   "outputs": [],
   "source": [
    "stream_activities(\n",
    "    duration_minutes=0.1,\n",
    "    batch_size=200,\n",
    "    interval_seconds=5\n",
    ")"
   ]
  },
  {
   "cell_type": "markdown",
   "id": "verify_data",
   "metadata": {
    "name": "verify_data"
   },
   "source": [
    "## Verify Initial Data\n"
   ]
  },
  {
   "cell_type": "code",
   "execution_count": null,
   "id": "check_data",
   "metadata": {
    "language": "sql",
    "name": "check_data"
   },
   "outputs": [],
   "source": [
    "USE SCHEMA RAW_DATA;\n",
    "\n",
    "SELECT \n",
    "    activity_type,\n",
    "    COUNT(*) as count,\n",
    "    ROUND(AVG(distance_meters/1000.0), 1) as avg_distance_km,\n",
    "    ROUND(AVG(moving_time_sec/60.0), 1) as avg_duration_min\n",
    "FROM ACTIVITIES\n",
    "GROUP BY activity_type\n",
    "ORDER BY count DESC;"
   ]
  },
  {
   "cell_type": "markdown",
   "id": "part2_intro",
   "metadata": {
    "name": "part2_intro"
   },
   "source": [
    "---\n",
    "\n",
    "# Part 2: Create Dynamic Tables with AI\n",
    "\n",
    "Build Dynamic Tables with Cortex AI integration for real-time insights.\n"
   ]
  },
  {
   "cell_type": "markdown",
   "id": "create_schema",
   "metadata": {
    "name": "create_schema"
   },
   "source": [
    "## Create Dynamic Tables Schema\n"
   ]
  },
  {
   "cell_type": "code",
   "execution_count": null,
   "id": "setup_dt_schema",
   "metadata": {
    "language": "sql",
    "name": "setup_dt_schema"
   },
   "outputs": [],
   "source": [
    "CREATE SCHEMA IF NOT EXISTS STRAVA_DYNAMIC_TABLES;\n",
    "USE SCHEMA STRAVA_DYNAMIC_TABLES;\n",
    "\n",
    "SELECT 'Dynamic Tables schema ready!' as STATUS;"
   ]
  },
  {
   "cell_type": "markdown",
   "id": "dt1_intro",
   "metadata": {
    "name": "dt1_intro"
   },
   "source": [
    "## Dynamic Table 1: Activity Intelligence\n",
    "\n",
    "Real-time activity processing with AI-powered performance insights.\n",
    "\n",
    "**Features:**\n",
    "- 1-minute LAG for near real-time processing\n",
    "- AI-generated performance insights using Cortex COMPLETE\n",
    "- Calculated metrics (pace, duration)\n"
   ]
  },
  {
   "cell_type": "code",
   "execution_count": null,
   "id": "create_dt1",
   "metadata": {
    "language": "sql",
    "name": "create_dt1"
   },
   "outputs": [],
   "source": [
    "CREATE OR REPLACE DYNAMIC TABLE activity_intelligence\n",
    "    TARGET_LAG = '1 MINUTE'\n",
    "    WAREHOUSE = STRAVA_DEMO_WH\n",
    "    REFRESH_MODE = INCREMENTAL\n",
    "    INITIALIZE = ON_CREATE\n",
    "AS\n",
    "    SELECT \n",
    "        activity_id,\n",
    "        athlete_id,\n",
    "        activity_type,\n",
    "        start_date_local,\n",
    "        distance_meters,\n",
    "        moving_time_sec,\n",
    "        elapsed_time_sec,\n",
    "        total_elevation_gain_meters,\n",
    "        average_heartrate,\n",
    "        CASE \n",
    "            WHEN moving_time_sec > 0 THEN ROUND((distance_meters / 1000.0) / (moving_time_sec / 3600.0), 2)::DECIMAL(10,2)\n",
    "            ELSE 0::DECIMAL(10,2)\n",
    "        END as pace_kmh,\n",
    "        SNOWFLAKE.CORTEX.COMPLETE('llama3-8b',\n",
    "            'Analyze this ' || activity_type || ' activity: ' ||\n",
    "            ROUND(distance_meters/1000.0, 1) || 'km in ' || \n",
    "            ROUND(moving_time_sec/60.0, 0) || ' minutes. ' ||\n",
    "            'Pace: ' || ROUND((distance_meters / 1000.0) / (moving_time_sec / 3600.0), 1) || 'km/h. ' ||\n",
    "            'Provide a brief performance insight in 1-2 sentences.'\n",
    "        ) as ai_performance_insight\n",
    "    FROM RAW_DATA.ACTIVITIES\n",
    "    WHERE start_date_local >= DATEADD('day', -30, start_date_local)\n",
    ";"
   ]
  },
  {
   "cell_type": "markdown",
   "id": "dt2_intro",
   "metadata": {
    "name": "dt2_intro"
   },
   "source": [
    "## Dynamic Table 2: Athlete Performance Dashboard\n",
    "\n",
    "Aggregated athlete metrics with AI-powered insights.\n",
    "\n",
    "**Features:**\n",
    "- 2-minute LAG for aggregated KPIs (allows incremental refresh)\n",
    "- Performance tier classification\n",
    "- AI athlete profiling with training recommendations\n"
   ]
  },
  {
   "cell_type": "code",
   "execution_count": null,
   "id": "create_dt2",
   "metadata": {
    "language": "sql",
    "name": "create_dt2"
   },
   "outputs": [],
   "source": [
    "CREATE OR REPLACE DYNAMIC TABLE athlete_performance_dashboard\n",
    "    TARGET_LAG = '2 MINUTES'\n",
    "    WAREHOUSE = STRAVA_DEMO_WH\n",
    "    REFRESH_MODE = INCREMENTAL\n",
    "    INITIALIZE = ON_CREATE\n",
    "AS\n",
    "    SELECT \n",
    "        athlete_id,\n",
    "        COUNT(*) as total_activities_7d,\n",
    "        ROUND(SUM(distance_meters) / 1000.0, 2)::DECIMAL(10,2) as total_distance_km_7d,\n",
    "        ROUND(AVG(distance_meters) / 1000.0, 2)::DECIMAL(10,2) as avg_distance_km,\n",
    "        ROUND(SUM(moving_time_sec) / 3600.0, 2)::DECIMAL(10,2) as total_moving_hours_7d,\n",
    "        ROUND(AVG(pace_kmh), 2)::DECIMAL(10,2) as avg_pace_kmh,\n",
    "        ROUND(AVG(average_heartrate), 1)::DECIMAL(5,1) as avg_heartrate,\n",
    "        SUM(total_elevation_gain_meters)::DECIMAL(10,0) as total_elevation_7d,\n",
    "        CASE \n",
    "            WHEN ROUND(AVG(pace_kmh), 2)::DECIMAL(10,2) > 15 THEN 'High Performer'\n",
    "            WHEN ROUND(AVG(pace_kmh), 2)::DECIMAL(10,2) > 10 THEN 'Regular Athlete'\n",
    "            ELSE 'Casual User'\n",
    "        END as performance_tier,\n",
    "        SNOWFLAKE.CORTEX.COMPLETE('llama3-8b',\n",
    "            'Based on this athlete data: ' ||\n",
    "            total_activities_7d || ' activities, ' ||\n",
    "            ROUND(total_distance_km_7d, 1) || 'km total distance, ' ||\n",
    "            ROUND(avg_pace_kmh, 1) || 'km/h average pace, ' ||\n",
    "            ROUND(avg_heartrate, 0) || ' average heart rate. ' ||\n",
    "            'Provide a brief athlete profile and training recommendations in 2-3 sentences.'\n",
    "        ) as ai_athlete_profile,\n",
    "        MAX(start_date_local) as last_activity_date\n",
    "    FROM activity_intelligence\n",
    "    GROUP BY athlete_id\n",
    ";"
   ]
  },
  {
   "cell_type": "markdown",
   "id": "view_dts",
   "metadata": {
    "name": "view_dts"
   },
   "source": [
    "## View Created Dynamic Tables\n"
   ]
  },
  {
   "cell_type": "code",
   "execution_count": null,
   "id": "show_dts",
   "metadata": {
    "language": "sql",
    "name": "show_dts"
   },
   "outputs": [],
   "source": [
    "SHOW DYNAMIC TABLES IN SCHEMA STRAVA_DYNAMIC_TABLES;"
   ]
  },
  {
   "cell_type": "code",
   "execution_count": null,
   "id": "preview_dt1",
   "metadata": {
    "language": "sql",
    "name": "preview_dt1"
   },
   "outputs": [],
   "source": [
    "SELECT * FROM activity_intelligence LIMIT 5;"
   ]
  },
  {
   "cell_type": "code",
   "execution_count": null,
   "id": "preview_dt2",
   "metadata": {
    "language": "sql",
    "name": "preview_dt2"
   },
   "outputs": [],
   "source": [
    "SELECT * FROM athlete_performance_dashboard LIMIT 5;"
   ]
  },
  {
   "cell_type": "markdown",
   "metadata": {},
   "source": [
    "## Stream More Data to Watch Refresh Behavior\n",
    "\n",
    "Now that Dynamic Tables are created, let's stream more data to observe the automatic refresh behavior.\n"
   ]
  },
  {
   "cell_type": "code",
   "execution_count": null,
   "metadata": {
    "vscode": {
     "languageId": "python"
    }
   },
   "outputs": [],
   "source": [
    "stream_activities(\n",
    "    duration_minutes=5,\n",
    "    batch_size=200,\n",
    "    interval_seconds=60\n",
    ")\n"
   ]
  },
  {
   "cell_type": "markdown",
   "id": "part3_intro",
   "metadata": {
    "name": "part3_intro"
   },
   "source": [
    "---\n",
    "\n",
    "# Part 3: Monitoring & Analytics\n",
    "\n",
    "Monitor Dynamic Table refresh behavior and analyze performance metrics.\n"
   ]
  },
  {
   "cell_type": "markdown",
   "id": "dt_status",
   "metadata": {
    "name": "dt_status"
   },
   "source": [
    "## Dynamic Table Status\n"
   ]
  },
  {
   "cell_type": "code",
   "execution_count": null,
   "id": "check_dt_status",
   "metadata": {
    "language": "sql",
    "name": "check_dt_status"
   },
   "outputs": [],
   "source": [
    "SHOW DYNAMIC TABLES IN SCHEMA STRAVA_DYNAMIC_TABLES;"
   ]
  },
  {
   "cell_type": "markdown",
   "id": "refresh_history",
   "metadata": {
    "name": "refresh_history"
   },
   "source": [
    "## Refresh History with Row Changes\n"
   ]
  },
  {
   "cell_type": "code",
   "execution_count": null,
   "id": "view_refresh_history",
   "metadata": {
    "language": "sql",
    "name": "view_refresh_history"
   },
   "outputs": [],
   "source": [
    "SELECT \n",
    "    name,\n",
    "    refresh_start_time,\n",
    "    refresh_end_time,\n",
    "    statistics:numInsertedRows::NUMBER as rows_inserted,\n",
    "    statistics:numDeletedRows::NUMBER as rows_deleted,\n",
    "    statistics:numCopiedRows::NUMBER as rows_copied,\n",
    "    DATEDIFF('second', refresh_start_time, refresh_end_time) as duration_seconds,\n",
    "    state,\n",
    "    refresh_action,\n",
    "    refresh_trigger,\n",
    "    data_timestamp\n",
    "FROM TABLE(INFORMATION_SCHEMA.DYNAMIC_TABLE_REFRESH_HISTORY())\n",
    "WHERE name IN ('ACTIVITY_INTELLIGENCE', 'ATHLETE_PERFORMANCE_DASHBOARD')\n",
    "ORDER BY refresh_start_time DESC, name;"
   ]
  },
  {
   "cell_type": "markdown",
   "id": "source_stats",
   "metadata": {
    "name": "source_stats"
   },
   "source": [
    "## Source Table Statistics\n"
   ]
  },
  {
   "cell_type": "code",
   "execution_count": null,
   "id": "view_source_stats",
   "metadata": {
    "language": "sql",
    "name": "view_source_stats"
   },
   "outputs": [],
   "source": [
    "SELECT \n",
    "    COUNT(*) as total_activities,\n",
    "    COUNT(DISTINCT athlete_id) as unique_athletes,\n",
    "    MIN(start_date_local) as earliest_activity,\n",
    "    MAX(start_date_local) as latest_activity,\n",
    "    COUNT(CASE WHEN start_date_local >= DATEADD('hour', -1, CURRENT_TIMESTAMP()) THEN 1 END) as activities_last_hour\n",
    "FROM RAW_DATA.ACTIVITIES;"
   ]
  },
  {
   "cell_type": "markdown",
   "id": "ai_insights",
   "metadata": {
    "name": "ai_insights"
   },
   "source": [
    "## AI-Generated Insights\n"
   ]
  },
  {
   "cell_type": "code",
   "execution_count": null,
   "id": "view_activity_insights",
   "metadata": {
    "language": "sql",
    "name": "view_activity_insights"
   },
   "outputs": [],
   "source": [
    "SELECT \n",
    "    activity_id,\n",
    "    athlete_id,\n",
    "    activity_type,\n",
    "    ROUND(distance_meters/1000.0, 2) as distance_km,\n",
    "    ROUND(moving_time_sec/60.0, 1) as duration_min,\n",
    "    ROUND(pace_kmh, 2) as pace_kmh,\n",
    "    ai_performance_insight,\n",
    "    start_date_local\n",
    "FROM STRAVA_DYNAMIC_TABLES.ACTIVITY_INTELLIGENCE\n",
    "ORDER BY start_date_local DESC\n",
    "LIMIT 10;"
   ]
  },
  {
   "cell_type": "markdown",
   "id": "athlete_profiles",
   "metadata": {
    "name": "athlete_profiles"
   },
   "source": [
    "## AI Athlete Profiles\n"
   ]
  },
  {
   "cell_type": "code",
   "execution_count": null,
   "id": "view_athlete_profiles",
   "metadata": {
    "language": "sql",
    "name": "view_athlete_profiles"
   },
   "outputs": [],
   "source": [
    "SELECT \n",
    "    athlete_id,\n",
    "    total_activities_7d,\n",
    "    ROUND(total_distance_km_7d, 1) as total_km_7d,\n",
    "    ROUND(avg_pace_kmh, 1) as avg_pace_kmh,\n",
    "    ROUND(avg_heartrate, 0) as avg_hr,\n",
    "    performance_tier,\n",
    "    ai_athlete_profile,\n",
    "    last_activity_date\n",
    "FROM STRAVA_DYNAMIC_TABLES.ATHLETE_PERFORMANCE_DASHBOARD\n",
    "ORDER BY total_distance_km_7d DESC\n",
    "LIMIT 10;"
   ]
  },
  {
   "cell_type": "markdown",
   "id": "performance_tiers",
   "metadata": {
    "name": "performance_tiers"
   },
   "source": [
    "## Performance Tier Distribution\n"
   ]
  },
  {
   "cell_type": "code",
   "execution_count": null,
   "id": "view_tier_dist",
   "metadata": {
    "language": "sql",
    "name": "view_tier_dist"
   },
   "outputs": [],
   "source": [
    "SELECT \n",
    "    performance_tier,\n",
    "    COUNT(*) as athlete_count,\n",
    "    ROUND(AVG(total_distance_km_7d), 1) as avg_distance_km,\n",
    "    ROUND(AVG(avg_pace_kmh), 1) as avg_pace,\n",
    "    ROUND(AVG(total_activities_7d), 1) as avg_activities\n",
    "FROM STRAVA_DYNAMIC_TABLES.ATHLETE_PERFORMANCE_DASHBOARD\n",
    "GROUP BY performance_tier\n",
    "ORDER BY avg_pace DESC;"
   ]
  },
  {
   "cell_type": "markdown",
   "id": "activity_breakdown",
   "metadata": {
    "name": "activity_breakdown"
   },
   "source": [
    "## Activity Type Breakdown\n"
   ]
  },
  {
   "cell_type": "code",
   "execution_count": null,
   "id": "view_activity_breakdown",
   "metadata": {
    "language": "sql",
    "name": "view_activity_breakdown"
   },
   "outputs": [],
   "source": [
    "SELECT \n",
    "    activity_type,\n",
    "    COUNT(*) as count,\n",
    "    ROUND(AVG(distance_meters/1000.0), 1) as avg_distance_km,\n",
    "    ROUND(AVG(moving_time_sec/60.0), 1) as avg_duration_min,\n",
    "    ROUND(AVG(pace_kmh), 1) as avg_pace_kmh,\n",
    "    ROUND(AVG(average_heartrate), 0) as avg_heartrate\n",
    "FROM STRAVA_DYNAMIC_TABLES.ACTIVITY_INTELLIGENCE\n",
    "GROUP BY activity_type\n",
    "ORDER BY count DESC;"
   ]
  },
  {
   "cell_type": "markdown",
   "id": "management",
   "metadata": {
    "name": "management"
   },
   "source": [
    "---\n",
    "\n",
    "# Part 4: Management & Optimization\n",
    "\n",
    "Tools for managing LAG settings and controlling costs.\n"
   ]
  },
  {
   "cell_type": "markdown",
   "id": "modify_lag",
   "metadata": {
    "name": "modify_lag"
   },
   "source": [
    "## Modify Dynamic Table LAG (Optional)\n",
    "\n",
    "Adjust refresh frequency to balance freshness vs. cost. Uncomment desired commands.\n"
   ]
  },
  {
   "cell_type": "code",
   "execution_count": null,
   "id": "lag_aggressive",
   "metadata": {
    "language": "sql",
    "name": "lag_aggressive"
   },
   "outputs": [],
   "source": [
    "-- More aggressive (faster, more expensive)\n",
    "-- ALTER DYNAMIC TABLE STRAVA_DYNAMIC_TABLES.ACTIVITY_INTELLIGENCE SET TARGET_LAG = '1 MINUTE';\n",
    "-- ALTER DYNAMIC TABLE STRAVA_DYNAMIC_TABLES.ATHLETE_PERFORMANCE_DASHBOARD SET TARGET_LAG = '3 MINUTES';\n"
   ]
  },
  {
   "cell_type": "code",
   "execution_count": null,
   "id": "lag_conservative",
   "metadata": {
    "language": "sql",
    "name": "lag_conservative"
   },
   "outputs": [],
   "source": [
    "-- Less aggressive (slower, cheaper)\n",
    "-- ALTER DYNAMIC TABLE STRAVA_DYNAMIC_TABLES.ACTIVITY_INTELLIGENCE SET TARGET_LAG = '5 MINUTES';\n",
    "-- ALTER DYNAMIC TABLE STRAVA_DYNAMIC_TABLES.ATHLETE_PERFORMANCE_DASHBOARD SET TARGET_LAG = '10 MINUTES';\n"
   ]
  },
  {
   "cell_type": "markdown",
   "id": "suspend_resume",
   "metadata": {
    "name": "suspend_resume"
   },
   "source": [
    "## Suspend/Resume Dynamic Tables\n",
    "\n",
    "Control costs by suspending when not in use. Uncomment desired commands.\n"
   ]
  },
  {
   "cell_type": "code",
   "execution_count": null,
   "id": "suspend_dts",
   "metadata": {
    "language": "sql",
    "name": "suspend_dts"
   },
   "outputs": [],
   "source": [
    "-- Suspend to save costs\n",
    "-- ALTER DYNAMIC TABLE STRAVA_DYNAMIC_TABLES.ACTIVITY_INTELLIGENCE SUSPEND;\n",
    "-- ALTER DYNAMIC TABLE STRAVA_DYNAMIC_TABLES.ATHLETE_PERFORMANCE_DASHBOARD SUSPEND;\n"
   ]
  },
  {
   "cell_type": "code",
   "execution_count": null,
   "id": "resume_dts",
   "metadata": {
    "language": "sql",
    "name": "resume_dts"
   },
   "outputs": [],
   "source": [
    "-- Resume when ready\n",
    "-- ALTER DYNAMIC TABLE STRAVA_DYNAMIC_TABLES.ACTIVITY_INTELLIGENCE RESUME;\n",
    "-- ALTER DYNAMIC TABLE STRAVA_DYNAMIC_TABLES.ATHLETE_PERFORMANCE_DASHBOARD RESUME;\n"
   ]
  },
  {
   "cell_type": "markdown",
   "id": "conclusion",
   "metadata": {
    "name": "conclusion"
   },
   "source": [
    "---\n",
    "\n",
    "# \ud83c\udf89 Demo Complete!\n",
    "\n",
    "You've successfully completed the Strava Dynamic Tables + AI demo!\n",
    "\n",
    "## What You've Accomplished:\n",
    "\u2705 Created source table with realistic activity data  \n",
    "\u2705 Built two Dynamic Tables with AI integration  \n",
    "\u2705 Monitored refresh behavior and performance  \n",
    "\u2705 Analyzed AI-generated insights and athlete profiles  \n",
    "\n",
    "## Next Steps:\n",
    "1. **Stream More Data:** Re-run the streaming cell to add more activities\n",
    "2. **Watch Refreshes:** Monitor how Dynamic Tables auto-refresh\n",
    "3. **Experiment:** Try different LAG settings\n",
    "4. **Cleanup:** When done, use **04_cleanup.ipynb** to remove all resources\n",
    "\n",
    "## Key Takeaways:\n",
    "- Dynamic Tables automate data transformation pipelines\n",
    "- AI integration provides intelligent insights at scale\n",
    "- LAG settings control freshness vs. cost tradeoffs\n",
    "- No orchestration needed - Snowflake manages dependencies\n"
   ]
  }
 ],
 "metadata": {
  "kernelspec": {
   "display_name": "Snowflake",
   "language": "sql",
   "name": "snowflake"
  },
  "language_info": {
   "name": "sql"
  }
 },
 "nbformat": 4,
 "nbformat_minor": 4
}