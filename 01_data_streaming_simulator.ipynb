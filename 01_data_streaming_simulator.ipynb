{
 "cells": [
  {
   "cell_type": "markdown",
   "id": "ce110000-1111-2222-3333-ffffff000000",
   "metadata": {
    "name": "cell1"
   },
   "source": [
    "# 🏃 Strava Data Streaming Simulator\n",
    "\n",
    "This notebook simulates real-time activity data streaming into Snowflake, allowing you to test Dynamic Tables refresh behavior.\n",
    "\n",
    "## What This Does:\n",
    "- Creates the ACTIVITIES source table\n",
    "- Generates realistic Strava-like activity data\n",
    "- Inserts 10 new activities per minute\n",
    "- Runs continuously to simulate streaming data\n",
    "- Lightweight and runs natively in Snowflake Notebooks\n",
    "\n",
    "## Prerequisites:\n",
    "**Run `00_setup_environment.sql` first** to create database, schemas, role, and warehouses.\n",
    "\n",
    "## Use Case:\n",
    "Watch your Dynamic Tables auto-refresh as new data arrives!\n"
   ]
  },
  {
   "cell_type": "markdown",
   "id": "ce110000-1111-2222-3333-ffffff000001",
   "metadata": {
    "name": "cell2"
   },
   "source": [
    "## Setup: Import Libraries and Set Context\n"
   ]
  },
  {
   "cell_type": "code",
   "execution_count": null,
   "id": "ce110000-1111-2222-3333-ffffff000002",
   "metadata": {
    "language": "python",
    "name": "import_lib"
   },
   "outputs": [],
   "source": [
    "# Import required libraries (available in Snowflake Python 3.11)\n",
    "import time\n",
    "import random\n",
    "from datetime import datetime, timedelta\n",
    "from snowflake.snowpark.context import get_active_session\n",
    "from snowflake.snowpark.functions import col\n",
    "\n",
    "# Get the active Snowflake session\n",
    "session = get_active_session()\n",
    "\n",
    "print(\"✅ Libraries imported successfully!\")\n",
    "print(f\"📊 Connected to Snowflake: {session.get_current_database()}.{session.get_current_schema()}\")\n"
   ]
  },
  {
   "cell_type": "markdown",
   "id": "ce110000-1111-2222-3333-ffffff000003",
   "metadata": {
    "name": "cell4"
   },
   "source": [
    "## Environment Setup\n",
    "Set the context for data generation\n"
   ]
  },
  {
   "cell_type": "code",
   "execution_count": null,
   "id": "ce110000-1111-2222-3333-ffffff000004",
   "metadata": {
    "language": "sql",
    "name": "set_context",
    "vscode": {
     "languageId": "sql"
    }
   },
   "outputs": [],
   "source": [
    "USE ROLE STRAVA_DEMO_ADMIN;\n",
    "USE WAREHOUSE STRAVA_DEMO_WH;\n",
    "USE DATABASE STRAVA_DEMO_SAMPLE;\n",
    "USE SCHEMA RAW_DATA;\n"
   ]
  },
  {
   "cell_type": "markdown",
   "id": "ce110000-1111-2222-3333-ffffff000005",
   "metadata": {
    "name": "cell6"
   },
   "source": [
    "## Create Activities Table\n",
    "Create the source table if it doesn't exist\n"
   ]
  },
  {
   "cell_type": "code",
   "execution_count": null,
   "id": "ce110000-1111-2222-3333-ffffff000006",
   "metadata": {
    "language": "sql",
    "name": "validate_table",
    "vscode": {
     "languageId": "sql"
    }
   },
   "outputs": [],
   "source": [
    "CREATE TABLE IF NOT EXISTS ACTIVITIES (\n",
    "    activity_id INTEGER,\n",
    "    athlete_id INTEGER,\n",
    "    activity_type VARCHAR(50),\n",
    "    start_date_local TIMESTAMP_NTZ,\n",
    "    distance_meters FLOAT,\n",
    "    moving_time_sec INTEGER,\n",
    "    elapsed_time_sec INTEGER,\n",
    "    total_elevation_gain_meters FLOAT,\n",
    "    map_polyline VARCHAR(500),\n",
    "    average_heartrate INTEGER\n",
    ");\n",
    "\n",
    "SELECT 'Activities table ready!' as status;\n"
   ]
  },
  {
   "cell_type": "markdown",
   "id": "ce110000-1111-2222-3333-ffffff000007",
   "metadata": {
    "name": "cell8"
   },
   "source": [
    "## Data Generator Function\n",
    "Creates realistic activity data\n"
   ]
  },
  {
   "cell_type": "code",
   "execution_count": null,
   "id": "ce110000-1111-2222-3333-ffffff000008",
   "metadata": {
    "language": "python",
    "name": "data_gen_udf"
   },
   "outputs": [],
   "source": [
    "def generate_activity_batch(batch_size=10, starting_id=1000):\n",
    "    \"\"\"Generate a batch of realistic Strava activity data\"\"\"\n",
    "    \n",
    "    activity_types = ['Run', 'Ride', 'Swim', 'Walk', 'Hike']\n",
    "    activities = []\n",
    "    \n",
    "    for i in range(batch_size):\n",
    "        activity_type = random.choice(activity_types)\n",
    "        \n",
    "        # Generate realistic metrics based on activity type\n",
    "        if activity_type == 'Run':\n",
    "            distance = random.uniform(3000, 15000)  # 3-15km\n",
    "            pace_min_per_km = random.uniform(4, 7)\n",
    "            moving_time = int((distance / 1000) * pace_min_per_km * 60)\n",
    "            heartrate = random.randint(140, 180)\n",
    "            elevation = random.uniform(20, 200)\n",
    "            \n",
    "        elif activity_type == 'Ride':\n",
    "            distance = random.uniform(15000, 60000)  # 15-60km\n",
    "            speed_kmh = random.uniform(20, 30)\n",
    "            moving_time = int((distance / 1000) / speed_kmh * 3600)\n",
    "            heartrate = random.randint(120, 160)\n",
    "            elevation = random.uniform(100, 800)\n",
    "            \n",
    "        elif activity_type == 'Swim':\n",
    "            distance = random.uniform(1000, 3000)  # 1-3km\n",
    "            pace_min_per_100m = random.uniform(1.5, 2.5)\n",
    "            moving_time = int((distance / 100) * pace_min_per_100m * 60)\n",
    "            heartrate = random.randint(130, 170)\n",
    "            elevation = 0.0\n",
    "            \n",
    "        else:  # Walk or Hike\n",
    "            distance = random.uniform(2000, 10000)  # 2-10km\n",
    "            pace_min_per_km = random.uniform(10, 15)\n",
    "            moving_time = int((distance / 1000) * pace_min_per_km * 60)\n",
    "            heartrate = random.randint(90, 130)\n",
    "            elevation = random.uniform(50, 400)\n",
    "        \n",
    "        elapsed_time = int(moving_time * random.uniform(1.0, 1.3))\n",
    "        \n",
    "        # Generate a simple polyline identifier\n",
    "        athlete_id = random.randint(1, 100)\n",
    "        map_polyline = f\"polyline_{athlete_id}_{starting_id + i}\"\n",
    "        \n",
    "        activity = {\n",
    "            'ACTIVITY_ID': starting_id + i,\n",
    "            'ATHLETE_ID': athlete_id,\n",
    "            'ACTIVITY_TYPE': activity_type,\n",
    "            'START_DATE_LOCAL': datetime.now() - timedelta(minutes=random.randint(0, 60)),\n",
    "            'DISTANCE_METERS': round(distance, 2),\n",
    "            'MOVING_TIME_SEC': moving_time,\n",
    "            'ELAPSED_TIME_SEC': elapsed_time,\n",
    "            'TOTAL_ELEVATION_GAIN_METERS': round(elevation, 2),\n",
    "            'MAP_POLYLINE': map_polyline,\n",
    "            'AVERAGE_HEARTRATE': heartrate\n",
    "        }\n",
    "        \n",
    "        activities.append(activity)\n",
    "    \n",
    "    return activities\n",
    "\n",
    "# Test the generator\n",
    "test_batch = generate_activity_batch(3, starting_id=1)\n",
    "print(\"✅ Data generator ready!\")\n",
    "print(f\"📝 Sample: {test_batch[0]['ACTIVITY_TYPE']} - {test_batch[0]['DISTANCE_METERS']/1000:.1f}km\")\n"
   ]
  },
  {
   "cell_type": "markdown",
   "id": "ce110000-1111-2222-3333-ffffff000009",
   "metadata": {
    "name": "cell10"
   },
   "source": [
    "## Stream Data Function\n",
    "Continuously insert data to simulate streaming\n"
   ]
  },
  {
   "cell_type": "code",
   "execution_count": null,
   "id": "ce110000-1111-2222-3333-ffffff000010",
   "metadata": {
    "language": "python",
    "name": "stream_data_udf"
   },
   "outputs": [],
   "source": [
    "def stream_activities(duration_minutes=5, batch_size=10, interval_seconds=60):\n",
    "    \"\"\"Stream activity data into Snowflake\"\"\"\n",
    "    \n",
    "    print(f\"🚀 Starting data stream...\")\n",
    "    print(f\"📊 Config: {batch_size} activities every {interval_seconds} seconds for {duration_minutes} minutes\\n\")\n",
    "    \n",
    "    # Get current max activity_id\n",
    "    max_id_result = session.sql(\"SELECT COALESCE(MAX(activity_id), 0) as max_id FROM ACTIVITIES\").collect()\n",
    "    current_id = max_id_result[0]['MAX_ID'] + 1\n",
    "    \n",
    "    start_time = time.time()\n",
    "    end_time = start_time + (duration_minutes * 60)\n",
    "    batch_count = 0\n",
    "    total_rows = 0\n",
    "    \n",
    "    while time.time() < end_time:\n",
    "        # Generate and insert batch\n",
    "        activities = generate_activity_batch(batch_size, starting_id=current_id)\n",
    "        df = session.create_dataframe(activities)\n",
    "        df.write.mode(\"append\").save_as_table(\"ACTIVITIES\")\n",
    "        \n",
    "        batch_count += 1\n",
    "        total_rows += batch_size\n",
    "        current_id += batch_size\n",
    "        \n",
    "        elapsed = int(time.time() - start_time)\n",
    "        remaining = int(end_time - time.time())\n",
    "        print(f\"✅ Batch {batch_count}: {batch_size} activities inserted | Total: {total_rows} | Elapsed: {elapsed}s | Remaining: {remaining}s\")\n",
    "        \n",
    "        if time.time() < end_time:\n",
    "            time.sleep(interval_seconds)\n",
    "    \n",
    "    print(f\"\\n🎉 Stream complete! {batch_count} batches, {total_rows} total activities inserted\")\n",
    "    \n",
    "    final_count = session.sql(\"SELECT COUNT(*) as total FROM ACTIVITIES\").collect()\n",
    "    print(f\"🗂️  Total in table: {final_count[0]['TOTAL']}\")\n",
    "\n",
    "print(\"✅ Stream function ready!\")\n"
   ]
  },
  {
   "cell_type": "markdown",
   "id": "ce110000-1111-2222-3333-ffffff000011",
   "metadata": {
    "name": "cell12"
   },
   "source": [
    "## ▶️ Run the Data Stream\n",
    "\n",
    "Execute this cell to start streaming data.\n",
    "\n",
    "**Default Configuration:**\n",
    "- Duration: 5 minutes\n",
    "- Batch size: 10 activities\n",
    "- Interval: 60 seconds\n",
    "\n",
    "*Adjust parameters as needed!*\n"
   ]
  },
  {
   "cell_type": "code",
   "execution_count": null,
   "id": "ce110000-1111-2222-3333-ffffff000012",
   "metadata": {
    "language": "python",
    "name": "cell13"
   },
   "outputs": [],
   "source": [
    "# Start streaming - modify parameters as needed\n",
    "stream_activities(\n",
    "    duration_minutes=5,\n",
    "    batch_size=10,\n",
    "    interval_seconds=60\n",
    ")\n"
   ]
  },
  {
   "cell_type": "markdown",
   "id": "ce110000-1111-2222-3333-ffffff000013",
   "metadata": {
    "name": "cell14"
   },
   "source": [
    "## Verify Data\n",
    "Check the activities that were just inserted\n"
   ]
  },
  {
   "cell_type": "code",
   "execution_count": null,
   "id": "ce110000-1111-2222-3333-ffffff000014",
   "metadata": {
    "language": "sql",
    "name": "cell15",
    "vscode": {
     "languageId": "sql"
    }
   },
   "outputs": [],
   "source": [
    "-- Summary of recent activities\n",
    "SELECT \n",
    "    activity_type,\n",
    "    COUNT(*) as count,\n",
    "    AVG(distance_meters/1000.0) as avg_distance_km,\n",
    "    AVG(moving_time_sec/60.0) as avg_duration_min\n",
    "FROM ACTIVITIES\n",
    "WHERE start_date_local >= DATEADD('hour', -1, CURRENT_TIMESTAMP())\n",
    "GROUP BY activity_type\n",
    "ORDER BY count DESC;\n"
   ]
  },
  {
   "cell_type": "code",
   "execution_count": null,
   "id": "ce110000-1111-2222-3333-ffffff000015",
   "metadata": {
    "language": "sql",
    "name": "cell16",
    "vscode": {
     "languageId": "sql"
    }
   },
   "outputs": [],
   "source": [
    "-- Latest 10 activities\n",
    "SELECT *\n",
    "FROM ACTIVITIES\n",
    "ORDER BY start_date_local DESC\n",
    "LIMIT 10;\n"
   ]
  },
  {
   "cell_type": "markdown",
   "id": "ce110000-1111-2222-3333-ffffff000016",
   "metadata": {
    "name": "cell17"
   },
   "source": []
  },
  {
   "cell_type": "code",
   "execution_count": null,
   "id": "ce110000-1111-2222-3333-ffffff000017",
   "metadata": {
    "language": "sql",
    "name": "cell18",
    "vscode": {
     "languageId": "sql"
    }
   },
   "outputs": [],
   "source": [
    "-- Check Dynamic Table refresh status\n",
    "SELECT \n",
    "    name,\n",
    "    state,\n",
    "    refresh_start_time,\n",
    "    refresh_end_time,\n",
    "    DATEDIFF('second', refresh_start_time, refresh_end_time) as duration_sec\n",
    "FROM TABLE(INFORMATION_SCHEMA.DYNAMIC_TABLE_REFRESH_HISTORY())\n",
    "WHERE name IN ('ACTIVITY_INTELLIGENCE', 'ATHLETE_PERFORMANCE_DASHBOARD')\n",
    "ORDER BY refresh_start_time DESC\n",
    "LIMIT 10;\n"
   ]
  },
  {
   "cell_type": "markdown",
   "id": "ce110000-1111-2222-3333-ffffff000018",
   "metadata": {
    "name": "cell19"
   },
   "source": [
    "## 🎉 Complete!\n",
    "\n",
    "This notebook creates the source table and simulates real-time data streaming for testing Dynamic Tables.\n",
    "\n",
    "### What You Get:\n",
    "✅ ACTIVITIES table created in RAW_DATA schema  \n",
    "✅ Realistic activity data (Run, Ride, Swim, Walk, Hike)  \n",
    "✅ Configurable streaming (10 activities/minute by default)  \n",
    "✅ Native Snowflake execution (Python 3.11)  \n",
    "\n",
    "### Next Steps:\n",
    "1. Run **02_create_dynamic_tables.ipynb** to create Dynamic Tables\n",
    "2. Come back to this notebook and run the stream again\n",
    "3. Watch Dynamic Tables auto-refresh!\n",
    "4. Use **03_monitoring_queries.sql** to monitor refresh activity\n"
   ]
  }
 ],
 "metadata": {
  "kernelspec": {
   "display_name": "pysnowpark",
   "language": "python",
   "name": "python3"
  },
  "language_info": {
   "codemirror_mode": {
    "name": "ipython",
    "version": 3
   },
   "file_extension": ".py",
   "mimetype": "text/x-python",
   "name": "python",
   "nbconvert_exporter": "python",
   "pygments_lexer": "ipython3",
   "version": "3.8.20"
  },
  "lastEditStatus": {
   "authorEmail": "arnold.yeung@snowflake.com",
   "authorId": "6661036637158",
   "authorName": "ARYEUNG",
   "lastEditTime": 1759432642949,
   "notebookId": "ycowyppyl4ivxz6ev5u7",
   "sessionId": "dec84c50-7368-4d24-b7f4-616a4dd3c6a9"
  }
 },
 "nbformat": 4,
 "nbformat_minor": 4
}
