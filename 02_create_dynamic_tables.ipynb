{
 "cells": [
  {
   "cell_type": "markdown",
   "id": "ce110000-1111-2222-3333-ffffff000000",
   "metadata": {
    "name": "cell1"
   },
   "source": [
    "# 🏔️ Strava Dynamic Tables + AI Demo\n",
    "\n",
    "This notebook creates Dynamic Tables with AI-powered insights using Strava-like activity data.\n",
    "\n",
    "## What This Does:\n",
    "1. Creates dedicated schema and warehouse for Dynamic Tables\n",
    "2. Builds two Dynamic Tables with Cortex AI integration\n",
    "3. Demonstrates automated ETL with incremental refresh\n",
    "4. Generates AI-powered performance insights and athlete profiles\n",
    "\n",
    "## Prerequisites:\n",
    "1. Run `00_setup_environment.sql` first\n",
    "2. Run `01_data_streaming_simulator.ipynb` to create and populate the ACTIVITIES table\n",
    "\n",
    "## Use Cases Covered:\n",
    "- Real-time activity processing with AI insights\n",
    "- Athlete performance tracking with incremental updates\n",
    "- AI-powered coaching recommendations\n",
    "- Automated data pipeline without orchestration\n"
   ]
  },
  {
   "cell_type": "markdown",
   "id": "ce110000-1111-2222-3333-ffffff000001",
   "metadata": {
    "name": "cell2"
   },
   "source": [
    "## Setup Context\n",
    "First, let's set up our Snowflake environment and context.\n"
   ]
  },
  {
   "cell_type": "code",
   "execution_count": null,
   "id": "ce110000-1111-2222-3333-ffffff000002",
   "metadata": {
    "language": "sql",
    "name": "set_context"
   },
   "outputs": [],
   "source": [
    "-- Set up context\n",
    "USE ROLE STRAVA_DEMO_ADMIN;\n",
    "USE WAREHOUSE STRAVA_DEMO_WH;\n",
    "USE DATABASE STRAVA_DEMO_SAMPLE;\n",
    "USE SCHEMA RAW_DATA;\n"
   ]
  },
  {
   "cell_type": "markdown",
   "id": "ce110000-1111-2222-3333-ffffff000003",
   "metadata": {
    "name": "cell4"
   },
   "source": [
    "## Environment Setup\n",
    "Create a dedicated schema and warehouse for Dynamic Tables to separate workloads.\n"
   ]
  },
  {
   "cell_type": "code",
   "execution_count": null,
   "id": "ce110000-1111-2222-3333-ffffff000004",
   "metadata": {
    "language": "sql",
    "name": "create_schema"
   },
   "outputs": [],
   "source": [
    "-- Create a dedicated schema for Dynamic Tables\n",
    "CREATE SCHEMA IF NOT EXISTS STRAVA_DYNAMIC_TABLES;\n",
    "USE SCHEMA STRAVA_DYNAMIC_TABLES;\n",
    "\n",
    "-- Create warehouse for Dynamic Tables (separate from regular workloads)\n",
    "CREATE OR REPLACE WAREHOUSE STRAVA_DT_DEMO_WH\n",
    "    WAREHOUSE_SIZE = XSMALL\n",
    "    AUTO_SUSPEND = 300\n",
    "    AUTO_RESUME = TRUE\n",
    "    INITIALLY_SUSPENDED = FALSE;\n",
    "\n",
    "-- Grant permissions\n",
    "GRANT USAGE ON WAREHOUSE STRAVA_DT_DEMO_WH TO ROLE STRAVA_DEMO_ADMIN;\n",
    "\n",
    "SELECT 'Dynamic Tables environment setup completed!' as STATUS;\n"
   ]
  },
  {
   "cell_type": "markdown",
   "id": "ce110000-1111-2222-3333-ffffff000005",
   "metadata": {
    "name": "cell6"
   },
   "source": [
    "## Dynamic Table 1: Activity Intelligence\n",
    "This Dynamic Table processes activities in real-time with AI-powered performance insights.\n",
    "\n",
    "**Key Features:**\n",
    "- 2-minute LAG for near real-time processing\n",
    "- Cortex COMPLETE for AI-generated performance insights\n",
    "- Real-time activity metrics calculation\n"
   ]
  },
  {
   "cell_type": "code",
   "execution_count": null,
   "id": "ce110000-1111-2222-3333-ffffff000006",
   "metadata": {
    "language": "sql",
    "name": "create_DT1"
   },
   "outputs": [],
   "source": [
    "-- DT 1: Real-time Activity Intelligence (CDC + AI)\n",
    "CREATE OR REPLACE DYNAMIC TABLE activity_intelligence\n",
    "    LAG = '2 MINUTES'\n",
    "    WAREHOUSE = STRAVA_DT_DEMO_WH\n",
    "AS\n",
    "    SELECT \n",
    "        activity_id,\n",
    "        athlete_id,\n",
    "        activity_type,\n",
    "        start_date_local,\n",
    "        distance_meters,\n",
    "        moving_time_sec,\n",
    "        elapsed_time_sec,\n",
    "        total_elevation_gain_meters,\n",
    "        average_heartrate,\n",
    "        -- Calculate pace (km/h)\n",
    "        CASE \n",
    "            WHEN moving_time_sec > 0 THEN (distance_meters / 1000.0) / (moving_time_sec / 3600.0)\n",
    "            ELSE 0 \n",
    "        END as pace_kmh,\n",
    "        -- 🤖 CORTEX AI: Generate activity insights\n",
    "        SNOWFLAKE.CORTEX.COMPLETE('llama3-8b',\n",
    "            'Analyze this ' || activity_type || ' activity: ' ||\n",
    "            ROUND(distance_meters/1000.0, 1) || 'km in ' || \n",
    "            ROUND(moving_time_sec/60.0, 0) || ' minutes. ' ||\n",
    "            'Pace: ' || ROUND((distance_meters / 1000.0) / (moving_time_sec / 3600.0), 1) || 'km/h. ' ||\n",
    "            'Provide a brief performance insight in 1-2 sentences.'\n",
    "        ) as ai_performance_insight,\n",
    "        CURRENT_TIMESTAMP() as processed_at\n",
    "    FROM RAW_DATA.ACTIVITIES\n",
    "    -- Only process recent activities (simulates streaming)\n",
    "    WHERE start_date_local >= DATEADD('day', -30, CURRENT_TIMESTAMP())\n",
    ";\n"
   ]
  },
  {
   "cell_type": "markdown",
   "id": "ce110000-1111-2222-3333-ffffff000007",
   "metadata": {
    "name": "cell8"
   },
   "source": [
    "## Dynamic Table 2: Athlete Performance Dashboard\n",
    "This Dynamic Table aggregates athlete metrics and provides AI-powered insights for coaching and performance analysis.\n",
    "\n",
    "**Key Features:**\n",
    "- 5-minute LAG for aggregated KPIs\n",
    "- Performance tier classification\n",
    "- AI athlete profiling with Cortex COMPLETE\n",
    "- Performance trend analysis with AI recommendations\n"
   ]
  },
  {
   "cell_type": "code",
   "execution_count": null,
   "id": "ce110000-1111-2222-3333-ffffff000008",
   "metadata": {
    "language": "sql",
    "name": "create_DT2"
   },
   "outputs": [],
   "source": [
    "-- DT 2: Athlete Performance Intelligence (Aggregated KPIs + AI Insights)\n",
    "CREATE OR REPLACE DYNAMIC TABLE athlete_performance_dashboard\n",
    "    LAG = '5 MINUTES'\n",
    "    WAREHOUSE = STRAVA_DT_DEMO_WH\n",
    "AS\n",
    "    SELECT \n",
    "        athlete_id,\n",
    "        COUNT(*) as total_activities_7d,\n",
    "        SUM(distance_meters) / 1000.0 as total_distance_km_7d,\n",
    "        AVG(distance_meters) / 1000.0 as avg_distance_km,\n",
    "        SUM(moving_time_sec) / 3600.0 as total_moving_hours_7d,\n",
    "        AVG(pace_kmh) as avg_pace_kmh,\n",
    "        AVG(average_heartrate) as avg_heartrate,\n",
    "        SUM(total_elevation_gain_meters) as total_elevation_7d,\n",
    "        -- Traditional performance tiers\n",
    "        CASE \n",
    "            WHEN AVG(pace_kmh) > 15 THEN 'High Performer'\n",
    "            WHEN AVG(pace_kmh) > 10 THEN 'Regular Athlete'\n",
    "            ELSE 'Casual User'\n",
    "        END as performance_tier,\n",
    "        -- CORTEX AI: Athlete profiling with SQL\n",
    "        SNOWFLAKE.CORTEX.COMPLETE('llama3-8b',\n",
    "            'Based on this athlete data: ' ||\n",
    "            total_activities_7d || ' activities, ' ||\n",
    "            ROUND(total_distance_km_7d, 1) || 'km total distance, ' ||\n",
    "            ROUND(avg_pace_kmh, 1) || 'km/h average pace, ' ||\n",
    "            ROUND(avg_heartrate, 0) || ' average heart rate. ' ||\n",
    "            'Provide a brief athlete profile and training recommendations in 2-3 sentences.'\n",
    "        ) as ai_athlete_profile,\n",
    "        MAX(start_date_local) as last_activity_date,\n",
    "        CURRENT_TIMESTAMP() as metrics_updated_at\n",
    "    FROM activity_intelligence\n",
    "    GROUP BY athlete_id\n",
    ";\n"
   ]
  },
  {
   "cell_type": "markdown",
   "id": "ce110000-1111-2222-3333-ffffff000009",
   "metadata": {
    "name": "cell10"
   },
   "source": [
    "## View Dynamic Tables\n",
    "Let's examine what we've created and see the Dynamic Tables in action.\n"
   ]
  },
  {
   "cell_type": "code",
   "execution_count": null,
   "id": "ce110000-1111-2222-3333-ffffff000010",
   "metadata": {
    "language": "sql",
    "name": "show_dynamic_tables"
   },
   "outputs": [],
   "source": [
    "-- List all Dynamic Tables created\n",
    "SHOW DYNAMIC TABLES IN SCHEMA STRAVA_DYNAMIC_TABLES;\n",
    "\n"
   ]
  },
  {
   "cell_type": "code",
   "execution_count": null,
   "id": "1fe760a3-40f9-40d6-8141-14c7f11ad498",
   "metadata": {
    "language": "sql",
    "name": "Show_sample_DT1"
   },
   "outputs": [],
   "source": [
    "-- Preview the main Dynamic Tables\n",
    "SELECT * FROM activity_intelligence LIMIT 5;\n"
   ]
  },
  {
   "cell_type": "code",
   "execution_count": null,
   "id": "ce110000-1111-2222-3333-ffffff000011",
   "metadata": {
    "language": "sql",
    "name": "show_sample_DT2"
   },
   "outputs": [],
   "source": [
    "SELECT * FROM athlete_performance_dashboard LIMIT 3;\n"
   ]
  },
  {
   "cell_type": "markdown",
   "id": "ce110000-1111-2222-3333-ffffff000012",
   "metadata": {
    "name": "cell13"
   },
   "source": [
    "## Demo Complete! 🎉\n",
    "\n",
    "You've successfully created a Dynamic Tables pipeline enhanced with Cortex AI for real-time activity processing and intelligent insights.\n",
    "\n",
    "### What You Created:\n",
    "✅ `ACTIVITY_INTELLIGENCE` - Real-time activity processing with AI insights (2-min LAG)  \n",
    "✅ `ATHLETE_PERFORMANCE_DASHBOARD` - Aggregated athlete KPIs with AI profiles (5-min LAG)  \n",
    "✅ Automated refresh pipeline with dependency management  \n",
    "\n",
    "### Next Steps:\n",
    "1. Use **03_monitoring_queries.sql** to monitor refresh history and view results\n",
    "2. Go back to **01_data_streaming_simulator.ipynb** and stream more data\n",
    "3. Watch Dynamic Tables auto-refresh and process new activities\n",
    "4. Experiment with different LAG settings to balance freshness vs. cost\n"
   ]
  }
 ],
 "metadata": {
  "kernelspec": {
   "display_name": "Snowflake",
   "language": "sql",
   "name": "snowflake"
  },
  "language_info": {
   "name": "sql"
  },
  "lastEditStatus": {
   "authorEmail": "arnold.yeung@snowflake.com",
   "authorId": "6661036637158",
   "authorName": "ARYEUNG",
   "lastEditTime": 1759270718658,
   "notebookId": "7wzwglcsnp5xga7d4lqm",
   "sessionId": "3e7d7ae8-7741-4661-8d58-ae606e525bbb"
  }
 },
 "nbformat": 4,
 "nbformat_minor": 4
}
