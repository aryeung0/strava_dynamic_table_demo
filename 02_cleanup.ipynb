{
 "cells": [
  {
   "cell_type": "markdown",
   "id": "ce110000-1111-2222-3333-ffffff000000",
   "metadata": {
    "name": "cell1"
   },
   "source": [
    "# 🧹 Strava Dynamic Tables Demo - Cleanup\n",
    "\n",
    "This notebook removes ALL resources created by the demo.\n",
    "\n",
    "## ⚠️ WARNING: This will permanently delete:\n",
    "- Dynamic Tables (`ACTIVITY_INTELLIGENCE`, `ATHLETE_PERFORMANCE_DASHBOARD`)\n",
    "- Source table (`ACTIVITIES`)\n",
    "- Schemas (`RAW_DATA`, `STRAVA_DYNAMIC_TABLES`)\n",
    "- Database (`STRAVA_DEMO_SAMPLE`)\n",
    "- Warehouse (`STRAVA_DEMO_WH`)\n",
    "- Role (`STRAVA_DEMO_ADMIN`)\n",
    "\n",
    "## Use Case:\n",
    "Run this notebook when you're completely done with the demo to remove all resources and avoid unnecessary costs.\n",
    "\n",
    "## Prerequisites:\n",
    "You must have `ACCOUNTADMIN` privileges to drop roles and all associated resources.\n"
   ]
  },
  {
   "cell_type": "markdown",
   "id": "ce110000-1111-2222-3333-ffffff000001",
   "metadata": {
    "name": "cell2"
   },
   "source": [
    "## Setup Context\n",
    "Switch to ACCOUNTADMIN role to have permissions to drop all resources.\n"
   ]
  },
  {
   "cell_type": "code",
   "execution_count": null,
   "id": "ce110000-1111-2222-3333-ffffff000002",
   "metadata": {
    "language": "sql",
    "name": "set_context"
   },
   "outputs": [],
   "source": [
    "USE ROLE ACCOUNTADMIN;\n"
   ]
  },
  {
   "cell_type": "markdown",
   "id": "ce110000-1111-2222-3333-ffffff000003",
   "metadata": {
    "name": "cell3"
   },
   "source": [
    "## 1. Drop Dynamic Tables\n",
    "Drop Dynamic Tables first (dependencies must be removed before schemas).\n"
   ]
  },
  {
   "cell_type": "code",
   "execution_count": null,
   "id": "ce110000-1111-2222-3333-ffffff000004",
   "metadata": {
    "language": "sql",
    "name": "drop_dynamic_tables"
   },
   "outputs": [],
   "source": [
    "USE DATABASE STRAVA_DEMO_SAMPLE;\n",
    "USE SCHEMA STRAVA_DYNAMIC_TABLES;\n",
    "\n",
    "DROP DYNAMIC TABLE IF EXISTS ATHLETE_PERFORMANCE_DASHBOARD;\n",
    "DROP DYNAMIC TABLE IF EXISTS ACTIVITY_INTELLIGENCE;\n",
    "\n",
    "SELECT 'Dynamic Tables dropped' as STATUS;\n"
   ]
  },
  {
   "cell_type": "markdown",
   "id": "ce110000-1111-2222-3333-ffffff000005",
   "metadata": {
    "name": "cell5"
   },
   "source": [
    "## 2. Drop Source Table\n",
    "Remove the source ACTIVITIES table from the RAW_DATA schema.\n"
   ]
  },
  {
   "cell_type": "code",
   "execution_count": null,
   "id": "ce110000-1111-2222-3333-ffffff000006",
   "metadata": {
    "language": "sql",
    "name": "drop_source_table"
   },
   "outputs": [],
   "source": [
    "USE SCHEMA RAW_DATA;\n",
    "\n",
    "DROP TABLE IF EXISTS ACTIVITIES;\n",
    "\n",
    "SELECT 'Source tables dropped' as STATUS;\n"
   ]
  },
  {
   "cell_type": "markdown",
   "id": "ce110000-1111-2222-3333-ffffff000007",
   "metadata": {
    "name": "cell7"
   },
   "source": [
    "## 3. Drop Schemas\n",
    "Remove both schemas from the database.\n"
   ]
  },
  {
   "cell_type": "code",
   "execution_count": null,
   "id": "ce110000-1111-2222-3333-ffffff000008",
   "metadata": {
    "language": "sql",
    "name": "drop_schemas"
   },
   "outputs": [],
   "source": [
    "USE DATABASE STRAVA_DEMO_SAMPLE;\n",
    "\n",
    "DROP SCHEMA IF EXISTS STRAVA_DYNAMIC_TABLES;\n",
    "DROP SCHEMA IF EXISTS RAW_DATA;\n",
    "\n",
    "SELECT 'Schemas dropped' as STATUS;\n"
   ]
  },
  {
   "cell_type": "markdown",
   "id": "ce110000-1111-2222-3333-ffffff000009",
   "metadata": {
    "name": "cell9"
   },
   "source": [
    "## 4. Drop Database\n",
    "Remove the entire demo database.\n"
   ]
  },
  {
   "cell_type": "code",
   "execution_count": null,
   "id": "ce110000-1111-2222-3333-ffffff000010",
   "metadata": {
    "language": "sql",
    "name": "drop_database"
   },
   "outputs": [],
   "source": [
    "DROP DATABASE IF EXISTS STRAVA_DEMO_SAMPLE;\n",
    "\n",
    "SELECT 'Database dropped' as STATUS;\n"
   ]
  },
  {
   "cell_type": "markdown",
   "id": "ce110000-1111-2222-3333-ffffff000011",
   "metadata": {
    "name": "cell11"
   },
   "source": [
    "## 5. Drop Warehouse\n",
    "Remove the demo warehouse to stop any compute costs.\n"
   ]
  },
  {
   "cell_type": "code",
   "execution_count": null,
   "id": "ce110000-1111-2222-3333-ffffff000012",
   "metadata": {
    "language": "sql",
    "name": "drop_warehouse"
   },
   "outputs": [],
   "source": [
    "DROP WAREHOUSE IF EXISTS STRAVA_DEMO_WH;\n",
    "\n",
    "SELECT 'Warehouse dropped' as STATUS;\n"
   ]
  },
  {
   "cell_type": "markdown",
   "id": "ce110000-1111-2222-3333-ffffff000013",
   "metadata": {
    "name": "cell13"
   },
   "source": [
    "## 6. Drop Role\n",
    "Remove the demo role.\n",
    "\n",
    "**Note:** This will fail if the role is currently in use by any user session. If it fails, disconnect any sessions using this role and retry.\n"
   ]
  },
  {
   "cell_type": "code",
   "execution_count": null,
   "id": "ce110000-1111-2222-3333-ffffff000014",
   "metadata": {
    "language": "sql",
    "name": "drop_role"
   },
   "outputs": [],
   "source": [
    "DROP ROLE IF EXISTS STRAVA_DEMO_ADMIN;\n",
    "\n",
    "SELECT 'Role dropped' as STATUS;\n"
   ]
  },
  {
   "cell_type": "markdown",
   "id": "ce110000-1111-2222-3333-ffffff000015",
   "metadata": {
    "name": "cell15"
   },
   "source": [
    "## 7. Verify Cleanup\n",
    "These queries should return no results if cleanup was successful.\n"
   ]
  },
  {
   "cell_type": "code",
   "execution_count": null,
   "id": "ce110000-1111-2222-3333-ffffff000016",
   "metadata": {
    "language": "sql",
    "name": "verify_database"
   },
   "outputs": [],
   "source": [
    "SHOW DATABASES LIKE 'STRAVA_DEMO_SAMPLE';\n"
   ]
  },
  {
   "cell_type": "code",
   "execution_count": null,
   "id": "ce110000-1111-2222-3333-ffffff000017",
   "metadata": {
    "language": "sql",
    "name": "verify_warehouse"
   },
   "outputs": [],
   "source": [
    "SHOW WAREHOUSES LIKE 'STRAVA_DEMO_WH';\n"
   ]
  },
  {
   "cell_type": "code",
   "execution_count": null,
   "id": "ce110000-1111-2222-3333-ffffff000018",
   "metadata": {
    "language": "sql",
    "name": "verify_role"
   },
   "outputs": [],
   "source": [
    "SHOW ROLES LIKE 'STRAVA_DEMO_ADMIN';\n"
   ]
  },
  {
   "cell_type": "code",
   "execution_count": null,
   "id": "ce110000-1111-2222-3333-ffffff000019",
   "metadata": {
    "language": "sql",
    "name": "cleanup_complete"
   },
   "outputs": [],
   "source": [
    "SELECT '✅ Cleanup completed successfully! All demo resources have been removed.' as STATUS;\n"
   ]
  },
  {
   "cell_type": "markdown",
   "id": "ce110000-1111-2222-3333-ffffff000020",
   "metadata": {
    "name": "cell20"
   },
   "source": [
    "## 🎉 Cleanup Complete!\n",
    "\n",
    "All demo resources have been permanently deleted.\n",
    "\n",
    "### What Was Removed:\n",
    "✅ Dynamic Tables deleted  \n",
    "✅ Source table removed  \n",
    "✅ Schemas dropped  \n",
    "✅ Database deleted  \n",
    "✅ Warehouse removed  \n",
    "✅ Role deleted  \n",
    "\n",
    "### To Run the Demo Again:\n",
    "1. Run **00_setup_environment.sql**\n",
    "2. Run **01_data_streaming_simulator.ipynb**\n",
    "3. Run **02_create_dynamic_tables.ipynb**\n",
    "4. Run **03_monitoring_queries.ipynb**\n"
   ]
  }
 ],
 "metadata": {
  "kernelspec": {
   "display_name": "Snowflake",
   "language": "sql",
   "name": "snowflake"
  },
  "language_info": {
   "name": "sql"
  }
 },
 "nbformat": 4,
 "nbformat_minor": 4
}
